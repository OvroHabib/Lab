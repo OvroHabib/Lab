{
  "nbformat": 4,
  "nbformat_minor": 0,
  "metadata": {
    "colab": {
      "provenance": [],
      "toc_visible": true
    },
    "kernelspec": {
      "name": "python3",
      "display_name": "Python 3"
    },
    "language_info": {
      "name": "python"
    }
  },
  "cells": [
    {
      "cell_type": "markdown",
      "source": [
        "1.Write a python program that categorizes each mail message by which day of the\n",
        "week the commit was done. To do this look for lines that start with “From”,\n",
        "then look for the third word and keep a running count of each of the days\n",
        "of the week. At the end of the program print out the contents of your\n",
        "dictionary (order does not matter).\n",
        "\n",
        "Sample Input-Output:\n",
        "\n",
        "Enter a file name: mbox-short.txt\n",
        "\n",
        "'Fri': 20, 'Thu': 6, 'Sat': 1"
      ],
      "metadata": {
        "id": "UOXGO2ZD3z9S"
      }
    },
    {
      "cell_type": "code",
      "source": [
        "fname = input('Enter a file name :')\n",
        "\n",
        "days = ['Sat','Sun','Mon','Tue','Wed','Thu','Fri']\n",
        "\n",
        "\n",
        "fhand = open (fname)\n",
        "\n",
        "\n",
        "count = dict()\n",
        "\n",
        "for line in fhand :\n",
        "  if line.startswith('From') and not line.startswith('From:'):\n",
        "    words = line.split()\n",
        "    for word in words :\n",
        "      if word in days :\n",
        "        count[word] = count.get(word,0) + 1\n",
        "\n",
        "print(count)\n",
        "\n"
      ],
      "metadata": {
        "colab": {
          "base_uri": "https://localhost:8080/"
        },
        "id": "u4bR-JLx37Mz",
        "outputId": "d915cbcf-21be-4db1-a8f8-b56fb00079d3"
      },
      "execution_count": 32,
      "outputs": [
        {
          "output_type": "stream",
          "name": "stdout",
          "text": [
            "Enter a file name :a.txt\n",
            "{'Sat': 1, 'Fri': 20, 'Thu': 6}\n"
          ]
        }
      ]
    },
    {
      "cell_type": "markdown",
      "source": [
        "2.Write a program to read through a mail log, build a histogram using a\n",
        "dictionary to count how many messages have come from each email address\n",
        "and print the dictionary.\n",
        "\n",
        "Sample Input-Output:\n",
        "\n",
        "Enter file name: mbox-short.txt\n",
        "\n",
        "'gopal.ramasammycook@gmail.com': 1, 'louis@media.berkeley.edu': 3,\n",
        "'cwen@iupui.edu': 5, 'antranig@caret.cam.ac.uk': 1,\n",
        "'rjlowe@iupui.edu': 2, 'gsilver@umich.edu': 3,\n",
        "'david.horwitz@uct.ac.za': 4, 'wagnermr@iupui.edu': 1,\n",
        "'zqian@umich.edu': 4, 'stephen.marquard@uct.ac.za': 2,\n",
        "'ray@media.berkeley.edu': 1"
      ],
      "metadata": {
        "id": "OveGabVl9Kfb"
      }
    },
    {
      "cell_type": "code",
      "source": [
        "fname = input('Enter a file name :')\n",
        "fhand = open (fname)\n",
        "count = dict()\n",
        "\n",
        "for line in fhand :\n",
        "  if line.startswith('From') and not line.startswith('From:'):\n",
        "    words = line.split()\n",
        "    for word in words :\n",
        "      if '@' in word :\n",
        "        count[word] = count.get(word,0) + 1\n",
        "\n",
        "print(count)\n",
        "\n"
      ],
      "metadata": {
        "colab": {
          "base_uri": "https://localhost:8080/"
        },
        "id": "tUHFJmWJ9YEZ",
        "outputId": "a79632d1-b608-46d5-baad-6f731427d992"
      },
      "execution_count": 31,
      "outputs": [
        {
          "output_type": "stream",
          "name": "stdout",
          "text": [
            "Enter a file name :a.txt\n",
            "{'stephen.marquard@uct.ac.za': 2, 'louis@media.berkeley.edu': 3, 'zqian@umich.edu': 4, 'rjlowe@iupui.edu': 2, 'cwen@iupui.edu': 5, 'gsilver@umich.edu': 3, 'wagnermr@iupui.edu': 1, 'antranig@caret.cam.ac.uk': 1, 'gopal.ramasammycook@gmail.com': 1, 'david.horwitz@uct.ac.za': 4, 'ray@media.berkeley.edu': 1}\n"
          ]
        }
      ]
    },
    {
      "cell_type": "markdown",
      "source": [
        "3.Add code to the above program to figure out who has the most messages\n",
        "in the file. After all the data has been read and the dictionary has been\n",
        "created, look through the dictionary using a maximum loop to find who\n",
        "has the most messages and print how many messages the person has.\n",
        "\n",
        "Sample Input-Output:\n",
        "\n",
        "Enter a file name: mbox-short.txt\n",
        "\n",
        "cwen@iupui.edu 5\n",
        "\n",
        "Enter a file name: mbox.txt\n",
        "\n",
        "zqian@umich.edu 195"
      ],
      "metadata": {
        "id": "tx_5Np39_KWF"
      }
    },
    {
      "cell_type": "code",
      "source": [
        "fname = input('Enter a file name :')\n",
        "fhand = open (fname)\n",
        "count = dict()\n",
        "\n",
        "for line in fhand :\n",
        "  if line.startswith('From') and not line.startswith('From:'):\n",
        "    words = line.split()\n",
        "    for word in words :\n",
        "      if '@' in word :\n",
        "        count[word] = count.get(word,0) + 1\n",
        "\n",
        "max_pair = max(count.items(), key=lambda item: item[1])\n",
        "\n",
        "print(max_pair)"
      ],
      "metadata": {
        "colab": {
          "base_uri": "https://localhost:8080/"
        },
        "id": "RSRBqOdm_aiQ",
        "outputId": "d57fbfd0-3183-4aca-b322-a3cb3a047203"
      },
      "execution_count": 30,
      "outputs": [
        {
          "output_type": "stream",
          "name": "stdout",
          "text": [
            "Enter a file name :a.txt\n",
            "('cwen@iupui.edu', 5)\n"
          ]
        }
      ]
    },
    {
      "cell_type": "markdown",
      "source": [
        "4his program records the domain name (instead of the address) where the\n",
        "message was sent from instead of who the mail came from (i.e., the whole\n",
        "email address). At the end of the program, print out the contents of your\n",
        "dictionary.\n",
        "\n",
        "Sample Input-Output:\n",
        "\n",
        "Enter a file name: mbox-short.txt\n",
        "\n",
        "’media.berkeley.edu’: 4, ’uct.ac.za’: 6, ’umich.edu’: 7,\n",
        "’gmail.com’: 1, ’caret.cam.ac.uk’: 1, ’iupui.edu’: 8"
      ],
      "metadata": {
        "id": "gWJHgv2AHKJ1"
      }
    },
    {
      "cell_type": "code",
      "source": [
        "fname = input('Enter a file name :')\n",
        "fhand = open (fname)\n",
        "count = dict()\n",
        "\n",
        "for line in fhand :\n",
        "  if line.startswith('From') and not line.startswith('From:'):\n",
        "    words = line.split()\n",
        "    for word in words :\n",
        "      if '@' in word :\n",
        "        temp = word.split('@')\n",
        "        domain = temp [1]\n",
        "        count[domain] = count.get(domain,0) + 1\n",
        "\n",
        "print(count)"
      ],
      "metadata": {
        "colab": {
          "base_uri": "https://localhost:8080/"
        },
        "id": "3oGfPAQvHa1c",
        "outputId": "8281cc0b-9012-4218-894c-056525f2905b"
      },
      "execution_count": 29,
      "outputs": [
        {
          "output_type": "stream",
          "name": "stdout",
          "text": [
            "Enter a file name :a.txt\n",
            "{'uct.ac.za': 6, 'media.berkeley.edu': 4, 'umich.edu': 7, 'iupui.edu': 8, 'caret.cam.ac.uk': 1, 'gmail.com': 1}\n"
          ]
        }
      ]
    },
    {
      "cell_type": "markdown",
      "source": [
        "5.Revise a previous program as follows: Read and parse the “From” lines and\n",
        "pull out the addresses from the line. Count the number of messages from\n",
        "each person using a dictionary. After all the data has been read, print the\n",
        "person with the most commits by creating a list of (count, email) tuples\n",
        "from the dictionary. Then sort the list in reverse order and print out the\n",
        "person who has the most commits.\n",
        "\n",
        "\n",
        "Sample Input-Output:\n",
        "\n",
        "Enter a file name: mbox-short.txt\n",
        "cwen@iupui.edu 5\n",
        "\n",
        "Enter a file name: mbox.txt\n",
        "zqian@umich.edu 195"
      ],
      "metadata": {
        "id": "tnYdqolhIvBr"
      }
    },
    {
      "cell_type": "code",
      "source": [
        "fname = input('Enter a file name :')\n",
        "fhand = open (fname)\n",
        "count = dict()\n",
        "\n",
        "for line in fhand :\n",
        "  if line.startswith('From') and not line.startswith('From:'):\n",
        "    words = line.split()\n",
        "    for word in words :\n",
        "      if '@' in word :\n",
        "        count[word] = count.get(word,0) + 1\n",
        "\n",
        "list_of_tuples = [(value, key) for key, value in count.items()]\n",
        "list_of_tuples.sort(reverse=True)\n",
        "x , y = list_of_tuples[1]\n",
        "print(y,x)"
      ],
      "metadata": {
        "colab": {
          "base_uri": "https://localhost:8080/"
        },
        "id": "soAU_8SVLUmm",
        "outputId": "777121ab-497c-40e1-b31e-b0d0b63a8558"
      },
      "execution_count": 28,
      "outputs": [
        {
          "output_type": "stream",
          "name": "stdout",
          "text": [
            "Enter a file name :a.txt\n",
            "zqian@umich.edu 4\n"
          ]
        }
      ]
    },
    {
      "cell_type": "markdown",
      "source": [
        "6.This program counts the distribution of the hour of the day for each of the\n",
        "messages. You can pull the hour from the “From” line by finding the time\n",
        "string and then splitting that string into parts using the colon character.\n",
        "Once you have accumulated the counts for each hour, print out the counts,\n",
        "one per line, sorted by hour as shown below\n",
        "\n",
        "\n",
        "Sample Input-Output:\n",
        "\n",
        "Enter a file name: mbox-short.txt\n",
        "\n",
        "04 3\n",
        "\n",
        "06 1\n",
        "\n",
        "07 1\n",
        "\n",
        "09 2\n",
        "\n",
        "10 3\n",
        "\n",
        "11 6\n",
        "\n",
        "14 1\n",
        "\n",
        "15 2\n",
        "\n",
        "16 4\n",
        "\n",
        "17 2\n",
        "\n",
        "18 1\n",
        "\n",
        "19 1"
      ],
      "metadata": {
        "id": "Si7kP1qLMuqV"
      }
    },
    {
      "cell_type": "code",
      "source": [
        "fname = input('Enter a file name :')\n",
        "fhand = open (fname)\n",
        "count = dict()\n",
        "\n",
        "for line in fhand :\n",
        "  if line.startswith('From') and not line.startswith('From:'):\n",
        "    words = line.split()\n",
        "\n",
        "    time_string = words[5]\n",
        "    # print(time_string)\n",
        "    temp = time_string.split(':')\n",
        "    hour = int(temp[0])\n",
        "    count[hour] = count.get(hour,0) + 1\n",
        "\n",
        "\n",
        "\n",
        "sorted_count = sorted(count.items(), key=lambda item: item[0])\n",
        "\n",
        "\n",
        "for key, value in sorted_count:\n",
        "    print(key, value)\n"
      ],
      "metadata": {
        "colab": {
          "base_uri": "https://localhost:8080/"
        },
        "id": "Ni9tsBEONBnA",
        "outputId": "9830881e-a92c-44a4-8f90-cc5c246b3958"
      },
      "execution_count": 33,
      "outputs": [
        {
          "output_type": "stream",
          "name": "stdout",
          "text": [
            "Enter a file name :a.txt\n",
            "4 3\n",
            "6 1\n",
            "7 1\n",
            "9 2\n",
            "10 3\n",
            "11 6\n",
            "14 1\n",
            "15 2\n",
            "16 4\n",
            "17 2\n",
            "18 1\n",
            "19 1\n"
          ]
        }
      ]
    }
  ]
}